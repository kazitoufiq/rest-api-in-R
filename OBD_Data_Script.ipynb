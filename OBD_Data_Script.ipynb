{
  "nbformat": 4,
  "nbformat_minor": 0,
  "metadata": {
    "colab": {
      "name": "OBD_Data_Script.ipynb",
      "provenance": [],
      "toc_visible": true,
      "authorship_tag": "ABX9TyNg2wSdmAd0KAJcta4D6qE9",
      "include_colab_link": true
    },
    "kernelspec": {
      "name": "ir",
      "display_name": "R"
    }
  },
  "cells": [
    {
      "cell_type": "markdown",
      "metadata": {
        "id": "view-in-github",
        "colab_type": "text"
      },
      "source": [
        "<a href=\"https://colab.research.google.com/github/kazitoufiq/rest-api-in-R/blob/master/OBD_Data_Script.ipynb\" target=\"_parent\"><img src=\"https://colab.research.google.com/assets/colab-badge.svg\" alt=\"Open In Colab\"/></a>"
      ]
    },
    {
      "cell_type": "markdown",
      "metadata": {
        "id": "EtiKJG6LByZT",
        "colab_type": "text"
      },
      "source": [
        "###Install required packages"
      ]
    },
    {
      "cell_type": "code",
      "metadata": {
        "id": "NFz6EZEI8sB6",
        "colab_type": "code",
        "colab": {
          "base_uri": "https://localhost:8080/",
          "height": 221
        },
        "outputId": "e95d863f-0b11-40c6-f23a-d40761381676"
      },
      "source": [
        "install.packages(\"httr\")\n",
        "install.packages(\"dplyr\")\n",
        "install.packages(\"jsonlite\")\n",
        "install.packages(\"lubridate\")"
      ],
      "execution_count": null,
      "outputs": [
        {
          "output_type": "stream",
          "text": [
            "Installing package into ‘/usr/local/lib/R/site-library’\n",
            "(as ‘lib’ is unspecified)\n",
            "\n",
            "Installing package into ‘/usr/local/lib/R/site-library’\n",
            "(as ‘lib’ is unspecified)\n",
            "\n",
            "Installing package into ‘/usr/local/lib/R/site-library’\n",
            "(as ‘lib’ is unspecified)\n",
            "\n",
            "Installing package into ‘/usr/local/lib/R/site-library’\n",
            "(as ‘lib’ is unspecified)\n",
            "\n"
          ],
          "name": "stderr"
        }
      ]
    },
    {
      "cell_type": "markdown",
      "metadata": {
        "id": "939Ql1RFB57J",
        "colab_type": "text"
      },
      "source": [
        "###load required packages"
      ]
    },
    {
      "cell_type": "code",
      "metadata": {
        "id": "k2ktR95NAlDV",
        "colab_type": "code",
        "colab": {
          "base_uri": "https://localhost:8080/",
          "height": 408
        },
        "outputId": "7d6733b6-5f3d-4ac6-da1a-de8c25981575"
      },
      "source": [
        "library(httr)\n",
        "library(dplyr)\n",
        "library(jsonlite)\n",
        "library(lubridate)"
      ],
      "execution_count": null,
      "outputs": [
        {
          "output_type": "stream",
          "text": [
            "\n",
            "Attaching package: ‘dplyr’\n",
            "\n",
            "\n",
            "The following objects are masked from ‘package:stats’:\n",
            "\n",
            "    filter, lag\n",
            "\n",
            "\n",
            "The following objects are masked from ‘package:base’:\n",
            "\n",
            "    intersect, setdiff, setequal, union\n",
            "\n",
            "\n",
            "\n",
            "Attaching package: ‘lubridate’\n",
            "\n",
            "\n",
            "The following objects are masked from ‘package:base’:\n",
            "\n",
            "    date, intersect, setdiff, union\n",
            "\n",
            "\n"
          ],
          "name": "stderr"
        }
      ]
    },
    {
      "cell_type": "markdown",
      "metadata": {
        "id": "Qn7_bX65CCBj",
        "colab_type": "text"
      },
      "source": [
        "###REST API server and Authentication "
      ]
    },
    {
      "cell_type": "code",
      "metadata": {
        "id": "XLG3DZAWCVRQ",
        "colab_type": "code",
        "colab": {}
      },
      "source": [
        "base <- \"https://xxx.app:4567/v1.0/\"\n",
        "\n",
        "# the function below get_req sends REST request based on query argument and retrive dataframe\n",
        "\n",
        "get_req <- function(query) {\n",
        "  \n",
        "  s <- paste0(base,query)\n",
        "  z <- GET(s, content_type(\"application/json;charset=utf-8\"),\n",
        "           authenticate(\"user\", \"pass\", \"basic\") )\n",
        "  print(s)\n",
        "  \n",
        "  print(status_code(z))\n",
        "  res_text <- content(z, \"text\", encoding = \"UTF-8\")\n",
        "  res_list <-  fromJSON(res_text, flatten = T)\n",
        "  \n",
        "}"
      ],
      "execution_count": null,
      "outputs": []
    },
    {
      "cell_type": "markdown",
      "metadata": {
        "id": "fT7wNSu1Cesq",
        "colab_type": "text"
      },
      "source": [
        "###User input parameter - start date time and end date time"
      ]
    },
    {
      "cell_type": "code",
      "metadata": {
        "id": "V2qdMI37C8a3",
        "colab_type": "code",
        "colab": {}
      },
      "source": [
        "StartDate <- \"01/03/2020 00:00:01\"  # user input : d / m/ y hh:mm:ss\n",
        "EndDate  <- \"17/06/2020 23:59:59\" "
      ],
      "execution_count": null,
      "outputs": []
    },
    {
      "cell_type": "markdown",
      "metadata": {
        "id": "YD-c736uDACq",
        "colab_type": "text"
      },
      "source": [
        "###Script to retrive and process data"
      ]
    },
    {
      "cell_type": "code",
      "metadata": {
        "id": "u4Tt-dsfA_QK",
        "colab_type": "code",
        "colab": {
          "base_uri": "https://localhost:8080/",
          "height": 411
        },
        "outputId": "f3f2c423-6157-4881-92cb-6ab9d063d51b"
      },
      "source": [
        "  \n",
        "starttime_numeric <- as.numeric(dmy_hms(StartDate, tz=\"UTC\"))\n",
        "endtime_numeric <-  as.numeric(dmy_hms(EndDate, tz=\"UTC\")) \n",
        "\n",
        "as.POSIXct(starttime_numeric, origin = '1970-01-01', tz=\"UTC\")\n",
        "as.POSIXct(endtime_numeric, origin = '1970-01-01', tz=\"UTC\")\n",
        "\n",
        "# get the list of class(fleet type) from OBD\n",
        "\n",
        "query <- \"getClassData/*\" \n",
        "\n",
        "class_df <- get_req(query)$class\n",
        "\n",
        "# get the list of vehicles for each of the class(fleet type)\n",
        "\n",
        "myls <- list()\n",
        "\n",
        "for(i in 1:nrow(class_df)){\n",
        "  \n",
        "  query <- paste0(\"getVehicleData/\",class_df[i,1])\n",
        "  \n",
        "  fleet_name <- class_df[i,1]\n",
        "  \n",
        "  data_list <- get_req(query)\n",
        "  \n",
        "  data_list[[fleet_name]]\n",
        "  \n",
        "  df<- cbind( data_list[[fleet_name]], fleet=names(data_list))\n",
        "  \n",
        "  myls[[i]] <- df\n",
        "  \n",
        "}\n",
        "\n",
        "vehicle_df <- do.call(rbind, lapply(myls, data.frame))  %>% mutate_if(is.factor, as.character)\n",
        "\n",
        "\n",
        "# get the defined event definition from OBD by the method - getEventDefinition and extract event by pattern;\n",
        "# such as \"Low Voltage\" / \"Acceleration\" by the user defined function udf_func_EventDef with class(fleet type) agrument\n",
        "\n",
        "udf_func_EventData <- function(class_name)  {\n",
        "  \n",
        "event_ls <- list()  \n",
        "query <- paste0(\"getEventDefinition/\", class_name)\n",
        "\n",
        "EventDefinition <-  get_req(query)\n",
        "EventDefinition[[class_name]]\n",
        "\n",
        "Event_Name_List <- grep( \"Acceleration\", EventDefinition[[class_name]]$description, ignore.case = F, value = T )\n",
        "\n",
        "if(length(Event_Name_List)>0) {\n",
        "\n",
        "EventDF <-  EventDefinition[[class_name]] %>% filter(description %in% Event_Name_List)\n",
        "\n",
        "vehicle_by_class <-   vehicle_df  %>% \n",
        "                      filter(fleet==class_name) \n",
        "\n",
        "event_ls[[\"EventDefDF\"]] <-  EventDF\n",
        "event_ls[[\"EventIDArray\"]] <- paste(EventDF$eventId, collapse = \",\")\n",
        "event_ls[[\"VehicleIDArray\"]] <- paste(vehicle_by_class$vehicleId, collapse = \",\")\n",
        "event_ls\n",
        "\n",
        "\n",
        "method_part <- paste0(\"getEventData/\", class_name, \"?\") \n",
        "\n",
        "param_part <- paste0(\"eventId=\",  event_ls[[\"EventIDArray\"]], \"&\",\n",
        "                     \"vehicleId=\", event_ls[[\"VehicleIDArray\"]], \"&\",\n",
        "                     \"initialDate=\", starttime_numeric, \"&\",\n",
        "                     \"finalDate=\", endtime_numeric, \"&\",\n",
        "                     \"environmentSignals=false\")\n",
        "\n",
        "query <- paste0(method_part, param_part)\n",
        "\n",
        "\n",
        "raw_obd <-   get_req(query)\n",
        "\n",
        "if(raw_obd[[1]]$returnCount>0) {\n",
        "  \n",
        "  \n",
        "  print(paste0(\"Record Found for \", class_name))\n",
        "   \n",
        "  data_df <-  raw_obd[[1]]$occurrences\n",
        "\n",
        "   data_df$startTime <- as.POSIXct(data_df$startTime, origin = '1970-01-01', tz = \"UTC\") \n",
        "   data_df$endTime <- as.POSIXct(data_df$endTime, origin = '1970-01-01', tz = \"UTC\") \n",
        "\n",
        "  data_df$fleet <- class_name\n",
        "\n",
        "  fina_df <- left_join( data_df,  event_ls[[\"EventDefDF\"]], by=c(\"eventId\"))  %>%\n",
        "                   left_join(vehicle_df[,c(\"vehicleId\", \"name\", \"fleet\")], by=c(\"vehicleId\", \"fleet\") )\n",
        "  \n",
        "} else{ print(paste0(\"No Record Found for \", class_name))}\n",
        "\n",
        "}\n",
        "\n",
        "}\n",
        "\n",
        "obd_data_list <- list()\n",
        "\n",
        "for(c in 1:nrow(class_df)){\n",
        "  \n",
        "  df_catcher <- udf_func_EventData(class_df$code[c])\n",
        "  \n",
        "  #print(class(df_catcher))\n",
        "  \n",
        "\n",
        "  if(is.data.frame(df_catcher)==T) {\n",
        "  \n",
        "  \n",
        "  obd_data_list[[c]] <- df_catcher \n",
        "   }\n",
        "  \n",
        "}\n",
        "\n",
        "\n",
        "df_final_temp <- do.call(rbind, lapply(obd_data_list, data.frame))  %>% select(-equipmentId)\n",
        "\n",
        "st_date <-  as.Date(as.POSIXct(starttime_numeric, origin = '1970-01-01')) \n",
        "en_date <- as.Date(as.POSIXct(endtime_numeric, origin = '1970-01-01')) \n"
      ],
      "execution_count": null,
      "outputs": [
        {
          "output_type": "display_data",
          "data": {
            "text/plain": [
              "[1] \"2020-03-01 00:00:01 UTC\""
            ]
          },
          "metadata": {
            "tags": []
          }
        },
        {
          "output_type": "display_data",
          "data": {
            "text/plain": [
              "[1] \"2020-06-17 23:59:59 UTC\""
            ]
          },
          "metadata": {
            "tags": []
          }
        },
        {
          "output_type": "stream",
          "text": [
            "[1] \"https://mtm-obd.nomadrail.app:4567/v1.0/getClassData/*\"\n",
            "[1] 200\n",
            "[1] \"https://mtm-obd.nomadrail.app:4567/v1.0/getVehicleData/mtm_xtrapolis\"\n",
            "[1] 200\n",
            "[1] \"https://mtm-obd.nomadrail.app:4567/v1.0/getVehicleData/mtm_comeng\"\n",
            "[1] 200\n",
            "[1] \"https://mtm-obd.nomadrail.app:4567/v1.0/getVehicleData/mtm_siemens\"\n",
            "[1] 200\n",
            "[1] \"https://mtm-obd.nomadrail.app:4567/v1.0/getEventDefinition/mtm_xtrapolis\"\n",
            "[1] 200\n",
            "[1] \"https://mtm-obd.nomadrail.app:4567/v1.0/getEventData/mtm_xtrapolis?eventId=800,899,2810,2811,2888,2889,6481,6482,6483,6484,6485,6486,6487,6488,6489&vehicleId=1301,1302,1303,1304,1305,1306,1307,1308,1309,1310,1311,1312,1313,1314,1315,1316,1317,1318,1319,1320,1321,1322,1323,1324,1325,1326,1327,1328,1329,1330,1331,1332,1333,1334,1335,1336,1337,1338,1339,1340,1341,1342,1343,1344,1345,1346,1347,1348,1349,1350,1351,1352,1353,1354,1355,1356,1357,1358,1359,1360,1361,1362,1363,1364,1365,1366,1367,1368,1369,1370,1371,1372,1373,1374,1375,1376,1377,1378,1379,1380,1381,1382,1383,1384,1385,1386,1387,1388,1389,1390,1391,1392,1393,1394,1395,1396,1397,1398,1399,1400,1401,1402,1403,1404,1405,1406,1407,1408,1409,1410,1411,1412,1413,1414,1415,1416,1417,1418,1419,1420,1421,1422,1423,1424,1425,1426,1427,1428,1429,1430,1431,1432,1433,1434,1435,1436,1437,1438,1439,1440,1441,1442,1443,1444,1626,1627,1628,1629,1630,1631,1632,1633,1634,1635,1636,1637,1638,1639,1640,1641,1642,1643,1644,1645,1646,1647,1648,1649,1650,1651,1652,1653,1654,1655,1656,1657,1658,1659,1660,1661,1662,1663,1664,1665,1666,1667,1668,1669,1670,1671,1672,1673,1674,1675,1676,1677,1678,1679,1680,1681,1682,1683&initialDate=1583020801&finalDate=1592438399&environmentSignals=false\"\n",
            "[1] 200\n",
            "[1] \"Record Found for mtm_xtrapolis\"\n",
            "[1] \"https://mtm-obd.nomadrail.app:4567/v1.0/getEventDefinition/mtm_comeng\"\n",
            "[1] 200\n",
            "[1] \"https://mtm-obd.nomadrail.app:4567/v1.0/getEventData/mtm_comeng?eventId=2818,2819,2820,2821&vehicleId=5,6,7,8,9,10&initialDate=1583020801&finalDate=1592438399&environmentSignals=false\"\n",
            "[1] 200\n",
            "[1] \"Record Found for mtm_comeng\"\n",
            "[1] \"https://mtm-obd.nomadrail.app:4567/v1.0/getEventDefinition/mtm_siemens\"\n",
            "[1] 200\n"
          ],
          "name": "stdout"
        }
      ]
    },
    {
      "cell_type": "markdown",
      "metadata": {
        "id": "bR9jFSa6BdQF",
        "colab_type": "text"
      },
      "source": [
        "###Write the data to csv file"
      ]
    },
    {
      "cell_type": "code",
      "metadata": {
        "id": "mkZTO1roBQye",
        "colab_type": "code",
        "colab": {}
      },
      "source": [
        "write.csv(df_final_temp, paste0(\"acceleration_\", st_date, \"_\", en_date, \".csv\") , row.names = F)"
      ],
      "execution_count": null,
      "outputs": []
    }
  ]
}